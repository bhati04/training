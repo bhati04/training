{
  "nbformat": 4,
  "nbformat_minor": 0,
  "metadata": {
    "colab": {
      "provenance": [],
      "authorship_tag": "ABX9TyMb76IXMfa7p8FHvdFuroaN",
      "include_colab_link": true
    },
    "kernelspec": {
      "name": "python3",
      "display_name": "Python 3"
    },
    "language_info": {
      "name": "python"
    }
  },
  "cells": [
    {
      "cell_type": "markdown",
      "metadata": {
        "id": "view-in-github",
        "colab_type": "text"
      },
      "source": [
        "<a href=\"https://colab.research.google.com/github/bhati04/training/blob/main/Untitled0.ipynb\" target=\"_parent\"><img src=\"https://colab.research.google.com/assets/colab-badge.svg\" alt=\"Open In Colab\"/></a>"
      ]
    },
    {
      "cell_type": "code",
      "execution_count": 4,
      "metadata": {
        "colab": {
          "base_uri": "https://localhost:8080/"
        },
        "id": "Z9aZzKvVTlgN",
        "outputId": "19acc4c7-a4f7-4a05-c7dd-0d42955d6c15"
      },
      "outputs": [
        {
          "output_type": "stream",
          "name": "stdout",
          "text": [
            "hello$Hey User\n"
          ]
        }
      ],
      "source": [
        "print(\"hello\",end=\"$\")\n",
        "print(\"Hey User\")\n"
      ]
    },
    {
      "cell_type": "code",
      "source": [
        "x=0.0;\n",
        "print(type(x))"
      ],
      "metadata": {
        "colab": {
          "base_uri": "https://localhost:8080/"
        },
        "id": "FoCiYZuiT96g",
        "outputId": "ef51954e-c6e1-40e9-80e9-ff63fc2847d1"
      },
      "execution_count": 5,
      "outputs": [
        {
          "output_type": "stream",
          "name": "stdout",
          "text": [
            "<class 'float'>\n"
          ]
        }
      ]
    },
    {
      "cell_type": "code",
      "source": [
        "year=2004;\n",
        "shelu=\"my birth year is\";\n",
        "print(shelu,year)"
      ],
      "metadata": {
        "colab": {
          "base_uri": "https://localhost:8080/"
        },
        "id": "eaRG48y5VHDn",
        "outputId": "af2d78a4-045b-43e8-e76c-ba777055f733"
      },
      "execution_count": 6,
      "outputs": [
        {
          "output_type": "stream",
          "name": "stdout",
          "text": [
            "my birth year is 2004\n"
          ]
        }
      ]
    },
    {
      "cell_type": "code",
      "source": [
        "Year=2025;\n",
        "company=\"regex\";\n",
        "print(f\"my year is {Year} company is {company}\")"
      ],
      "metadata": {
        "colab": {
          "base_uri": "https://localhost:8080/"
        },
        "id": "XKmGn1DSWGIP",
        "outputId": "8b897cac-ebef-4e00-c7bb-a90dec417302"
      },
      "execution_count": 11,
      "outputs": [
        {
          "output_type": "stream",
          "name": "stdout",
          "text": [
            "my year is 2025 company is regex\n"
          ]
        }
      ]
    },
    {
      "cell_type": "code",
      "source": [
        "a=10;\n",
        "b=20;\n",
        "c=30;\n",
        "if a>b and a>c :\n",
        "  print(\"a is greater\")\n",
        "elif b>a and b>c:\n",
        "  print(\"b is greater\")\n",
        "else:\n",
        "  print(\"c is greater\")"
      ],
      "metadata": {
        "colab": {
          "base_uri": "https://localhost:8080/"
        },
        "id": "dYaeFQzFXB5T",
        "outputId": "0e2aa3a3-e637-4912-fc57-ceef1d839063"
      },
      "execution_count": 41,
      "outputs": [
        {
          "output_type": "stream",
          "name": "stdout",
          "text": [
            "c is greater\n"
          ]
        }
      ]
    },
    {
      "cell_type": "code",
      "source": [
        "age = int(input(\"enter your age\"))\n",
        "if age >= 18 and age< 25:\n",
        "  print(\"adult\")\n",
        "elif age >=25 and age < 35:\n",
        "  print(\"married\")\n",
        "elif age >= 35:\n",
        "  print(\"citizen\")\n",
        "else:\n",
        "  print(\"child\")"
      ],
      "metadata": {
        "colab": {
          "base_uri": "https://localhost:8080/"
        },
        "id": "QgK0UtZEcvYz",
        "outputId": "50b1e605-e530-4a25-e1ca-fb74b9a6c8cd"
      },
      "execution_count": 19,
      "outputs": [
        {
          "output_type": "stream",
          "name": "stdout",
          "text": [
            "enter your age18\n",
            "adult\n"
          ]
        }
      ]
    },
    {
      "cell_type": "code",
      "source": [
        "# string slicing and indexing\n",
        "x= \"RAJASTHAN\";\n",
        "x[1:4]"
      ],
      "metadata": {
        "colab": {
          "base_uri": "https://localhost:8080/",
          "height": 36
        },
        "id": "q_sAc1NQeGTz",
        "outputId": "bee2ee1d-c570-4baa-c76b-6b3b30cbdc1b"
      },
      "execution_count": 39,
      "outputs": [
        {
          "output_type": "execute_result",
          "data": {
            "text/plain": [
              "''"
            ],
            "application/vnd.google.colaboratory.intrinsic+json": {
              "type": "string"
            }
          },
          "metadata": {},
          "execution_count": 39
        }
      ]
    },
    {
      "cell_type": "code",
      "source": [
        "x=int(input(\"enter a number\"))\n",
        "if x%2==0:\n",
        "  print(\"even no. \")\n",
        "else:\n",
        "  print(\"odd no.\")\n"
      ],
      "metadata": {
        "colab": {
          "base_uri": "https://localhost:8080/"
        },
        "id": "upJgHS2FgsX5",
        "outputId": "5bfccfdb-8dc3-4d83-d8bc-4a117cd8f8ce"
      },
      "execution_count": 40,
      "outputs": [
        {
          "output_type": "stream",
          "name": "stdout",
          "text": [
            "enter a number4\n",
            "even no. \n"
          ]
        }
      ]
    },
    {
      "cell_type": "code",
      "source": [
        "percentage=int(input(\"enter your %\"))\n",
        "if percentage <=100 and percentage>=90:\n",
        "  print(\"GRADE => A\")\n",
        "elif percentage<90 and percentage>=80:\n",
        "  print(\"GRADE => B\")\n",
        "elif percentage<80 and percentage>=70:\n",
        "  print(\"GRADE => c\")\n",
        "elif percentage<70 and percentage>=60:\n",
        "  print(\"GRADE => D\")\n",
        "else:\n",
        "  print(\"FAIL!!\")"
      ],
      "metadata": {
        "colab": {
          "base_uri": "https://localhost:8080/"
        },
        "id": "yx-QDJgHlKwd",
        "outputId": "ab0786ad-158d-4fbb-e2ed-29fd0df5c42c"
      },
      "execution_count": 42,
      "outputs": [
        {
          "output_type": "stream",
          "name": "stdout",
          "text": [
            "enter your %90\n",
            "GRADE => A\n"
          ]
        }
      ]
    },
    {
      "cell_type": "code",
      "source": [
        "year=int(input(\"enter the year\"))\n",
        "if year%4==0 and year%"
      ],
      "metadata": {
        "id": "7JQv-AZEnQXh"
      },
      "execution_count": null,
      "outputs": []
    }
  ]
}