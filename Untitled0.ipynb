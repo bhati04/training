{
  "nbformat": 4,
  "nbformat_minor": 0,
  "metadata": {
    "colab": {
      "provenance": [],
      "authorship_tag": "ABX9TyNpf+vogz3jSRaJJJkqtRUM",
      "include_colab_link": true
    },
    "kernelspec": {
      "name": "python3",
      "display_name": "Python 3"
    },
    "language_info": {
      "name": "python"
    }
  },
  "cells": [
    {
      "cell_type": "markdown",
      "metadata": {
        "id": "view-in-github",
        "colab_type": "text"
      },
      "source": [
        "<a href=\"https://colab.research.google.com/github/bhati04/training/blob/main/Untitled0.ipynb\" target=\"_parent\"><img src=\"https://colab.research.google.com/assets/colab-badge.svg\" alt=\"Open In Colab\"/></a>"
      ]
    },
    {
      "cell_type": "code",
      "execution_count": null,
      "metadata": {
        "colab": {
          "base_uri": "https://localhost:8080/"
        },
        "id": "Z9aZzKvVTlgN",
        "outputId": "19acc4c7-a4f7-4a05-c7dd-0d42955d6c15"
      },
      "outputs": [
        {
          "output_type": "stream",
          "name": "stdout",
          "text": [
            "hello$Hey User\n"
          ]
        }
      ],
      "source": [
        "print(\"hello\",end=\"$\")\n",
        "print(\"Hey User\")\n"
      ]
    },
    {
      "cell_type": "code",
      "source": [
        "x=0.0;\n",
        "print(type(x))"
      ],
      "metadata": {
        "colab": {
          "base_uri": "https://localhost:8080/"
        },
        "id": "FoCiYZuiT96g",
        "outputId": "ef51954e-c6e1-40e9-80e9-ff63fc2847d1"
      },
      "execution_count": null,
      "outputs": [
        {
          "output_type": "stream",
          "name": "stdout",
          "text": [
            "<class 'float'>\n"
          ]
        }
      ]
    },
    {
      "cell_type": "code",
      "source": [
        "year=2004;\n",
        "shelu=\"my birth year is\";\n",
        "print(shelu,year)"
      ],
      "metadata": {
        "colab": {
          "base_uri": "https://localhost:8080/"
        },
        "id": "eaRG48y5VHDn",
        "outputId": "af2d78a4-045b-43e8-e76c-ba777055f733"
      },
      "execution_count": null,
      "outputs": [
        {
          "output_type": "stream",
          "name": "stdout",
          "text": [
            "my birth year is 2004\n"
          ]
        }
      ]
    },
    {
      "cell_type": "code",
      "source": [
        "Year=2025;\n",
        "company=\"regex\";\n",
        "print(f\"my year is {Year} company is {company}\")"
      ],
      "metadata": {
        "colab": {
          "base_uri": "https://localhost:8080/"
        },
        "id": "XKmGn1DSWGIP",
        "outputId": "8b897cac-ebef-4e00-c7bb-a90dec417302"
      },
      "execution_count": null,
      "outputs": [
        {
          "output_type": "stream",
          "name": "stdout",
          "text": [
            "my year is 2025 company is regex\n"
          ]
        }
      ]
    },
    {
      "cell_type": "code",
      "source": [
        "a=10;\n",
        "b=20;\n",
        "c=30;\n",
        "if a>b and a>c :\n",
        "  print(\"a is greater\")\n",
        "elif b>a and b>c:\n",
        "  print(\"b is greater\")\n",
        "else:\n",
        "  print(\"c is greater\")"
      ],
      "metadata": {
        "colab": {
          "base_uri": "https://localhost:8080/"
        },
        "id": "dYaeFQzFXB5T",
        "outputId": "0e2aa3a3-e637-4912-fc57-ceef1d839063"
      },
      "execution_count": null,
      "outputs": [
        {
          "output_type": "stream",
          "name": "stdout",
          "text": [
            "c is greater\n"
          ]
        }
      ]
    },
    {
      "cell_type": "code",
      "source": [
        "age = int(input(\"enter your age\"))\n",
        "if age >= 18 and age< 25:\n",
        "  print(\"adult\")\n",
        "elif age >=25 and age < 35:\n",
        "  print(\"married\")\n",
        "elif age >= 35:\n",
        "  print(\"citizen\")\n",
        "else:\n",
        "  print(\"child\")"
      ],
      "metadata": {
        "colab": {
          "base_uri": "https://localhost:8080/"
        },
        "id": "QgK0UtZEcvYz",
        "outputId": "50b1e605-e530-4a25-e1ca-fb74b9a6c8cd"
      },
      "execution_count": null,
      "outputs": [
        {
          "output_type": "stream",
          "name": "stdout",
          "text": [
            "enter your age18\n",
            "adult\n"
          ]
        }
      ]
    },
    {
      "cell_type": "code",
      "source": [
        "# string slicing and indexing\n",
        "x= \"RAJASTHAN\";\n",
        "x[1:4]"
      ],
      "metadata": {
        "colab": {
          "base_uri": "https://localhost:8080/",
          "height": 36
        },
        "id": "q_sAc1NQeGTz",
        "outputId": "bee2ee1d-c570-4baa-c76b-6b3b30cbdc1b"
      },
      "execution_count": null,
      "outputs": [
        {
          "output_type": "execute_result",
          "data": {
            "text/plain": [
              "''"
            ],
            "application/vnd.google.colaboratory.intrinsic+json": {
              "type": "string"
            }
          },
          "metadata": {},
          "execution_count": 39
        }
      ]
    },
    {
      "cell_type": "code",
      "source": [
        "x=int(input(\"enter a number\"))\n",
        "if x%2==0:\n",
        "  print(\"even no. \")\n",
        "else:\n",
        "  print(\"odd no.\")\n"
      ],
      "metadata": {
        "colab": {
          "base_uri": "https://localhost:8080/"
        },
        "id": "upJgHS2FgsX5",
        "outputId": "5bfccfdb-8dc3-4d83-d8bc-4a117cd8f8ce"
      },
      "execution_count": null,
      "outputs": [
        {
          "output_type": "stream",
          "name": "stdout",
          "text": [
            "enter a number4\n",
            "even no. \n"
          ]
        }
      ]
    },
    {
      "cell_type": "code",
      "source": [
        "percentage=int(input(\"enter your %\"))\n",
        "if percentage <=100 and percentage>=90:\n",
        "  print(\"GRADE => A\")\n",
        "elif percentage<90 and percentage>=80:\n",
        "  print(\"GRADE => B\")\n",
        "elif percentage<80 and percentage>=70:\n",
        "  print(\"GRADE => c\")\n",
        "elif percentage<70 and percentage>=60:\n",
        "  print(\"GRADE => D\")\n",
        "else:\n",
        "  print(\"FAIL!!\")"
      ],
      "metadata": {
        "colab": {
          "base_uri": "https://localhost:8080/"
        },
        "id": "yx-QDJgHlKwd",
        "outputId": "ab0786ad-158d-4fbb-e2ed-29fd0df5c42c"
      },
      "execution_count": null,
      "outputs": [
        {
          "output_type": "stream",
          "name": "stdout",
          "text": [
            "enter your %90\n",
            "GRADE => A\n"
          ]
        }
      ]
    },
    {
      "cell_type": "code",
      "source": [
        "for i in range(1,11):\n",
        "  print(i)"
      ],
      "metadata": {
        "id": "7JQv-AZEnQXh",
        "colab": {
          "base_uri": "https://localhost:8080/"
        },
        "outputId": "3d7088ee-27b7-4d64-e1a9-9289b6bd1869"
      },
      "execution_count": null,
      "outputs": [
        {
          "output_type": "stream",
          "name": "stdout",
          "text": [
            "1\n",
            "2\n",
            "3\n",
            "4\n",
            "5\n",
            "6\n",
            "7\n",
            "8\n",
            "9\n",
            "10\n"
          ]
        }
      ]
    },
    {
      "cell_type": "code",
      "source": [
        "TOTAL=0\n",
        "for i in range(1,366):\n",
        "  TOTAL=TOTAL+i\n",
        "print(TOTAL)"
      ],
      "metadata": {
        "colab": {
          "base_uri": "https://localhost:8080/"
        },
        "id": "G91xNvFYATOu",
        "outputId": "67c53ec7-cb84-411d-9f4b-778d3efe89fb"
      },
      "execution_count": null,
      "outputs": [
        {
          "output_type": "stream",
          "name": "stdout",
          "text": [
            "66795\n"
          ]
        }
      ]
    },
    {
      "cell_type": "code",
      "source": [
        "count=0\n",
        "for i in range(20,56):\n",
        "  if(i%2==0 and i%6==0):\n",
        "      print(i)\n",
        "      count=count+1\n",
        "print(count)"
      ],
      "metadata": {
        "colab": {
          "base_uri": "https://localhost:8080/"
        },
        "id": "6fioviZaBdhs",
        "outputId": "714815cc-bf01-42f7-ec78-570af4c0f8f6"
      },
      "execution_count": null,
      "outputs": [
        {
          "output_type": "stream",
          "name": "stdout",
          "text": [
            "24\n",
            "30\n",
            "36\n",
            "42\n",
            "48\n",
            "54\n",
            "6\n"
          ]
        }
      ]
    },
    {
      "cell_type": "code",
      "source": [
        "a=10\n",
        "for i in range(1,11):\n",
        "  if(a%i==0):\n",
        "    print(i)"
      ],
      "metadata": {
        "colab": {
          "base_uri": "https://localhost:8080/"
        },
        "id": "uGgnFrA9CcGE",
        "outputId": "785c1fdd-51bf-42a5-9224-61aed667f6f6"
      },
      "execution_count": null,
      "outputs": [
        {
          "output_type": "stream",
          "name": "stdout",
          "text": [
            "1\n",
            "2\n",
            "5\n",
            "10\n"
          ]
        }
      ]
    },
    {
      "cell_type": "code",
      "source": [
        "a=45\n",
        "count=0\n",
        "for i in range(1,46):\n",
        "  if(a%i==0):\n",
        "    count=count+1\n",
        "print(count)"
      ],
      "metadata": {
        "colab": {
          "base_uri": "https://localhost:8080/"
        },
        "id": "2Hio4tVIDHJw",
        "outputId": "b169e247-7fc9-4cd7-f3cf-9ae852631e88"
      },
      "execution_count": null,
      "outputs": [
        {
          "output_type": "stream",
          "name": "stdout",
          "text": [
            "6\n"
          ]
        }
      ]
    },
    {
      "cell_type": "code",
      "source": [
        "a=int(input(\"enter a number\"))\n",
        "count=0\n",
        "for i in range(1,a+1):\n",
        "  if(a%i==0):\n",
        "    count=count+1\n",
        "if(count>2):\n",
        "  print(\"Not Prime\")\n",
        "else:\n",
        "  print(\"Is Prime\")\n"
      ],
      "metadata": {
        "colab": {
          "base_uri": "https://localhost:8080/"
        },
        "id": "QRojsug4D3eY",
        "outputId": "cbd46fe8-5dd8-4827-c718-945375a6f485"
      },
      "execution_count": null,
      "outputs": [
        {
          "output_type": "stream",
          "name": "stdout",
          "text": [
            "enter a number117\n",
            "Not Prime\n"
          ]
        }
      ]
    },
    {
      "cell_type": "code",
      "source": [
        "for i in range(1,11):\n",
        "  if(i==4):\n",
        "    break\n",
        "  print(i)"
      ],
      "metadata": {
        "colab": {
          "base_uri": "https://localhost:8080/"
        },
        "id": "yIspk18VFD6R",
        "outputId": "5d973764-9a50-4f7e-b4f0-c3ad1c77d5cd"
      },
      "execution_count": null,
      "outputs": [
        {
          "output_type": "stream",
          "name": "stdout",
          "text": [
            "1\n",
            "2\n",
            "3\n"
          ]
        }
      ]
    },
    {
      "cell_type": "code",
      "source": [
        "'''while loop is used when number of iterations are not finite\n",
        "syntax while(Condition):\n",
        "          execution'''\n",
        "\n",
        "i=1\n",
        "while(i>10):\n",
        "  i+=1\n",
        "  print(\"hello\")\n",
        "\n"
      ],
      "metadata": {
        "id": "JoPN1ow3HB43"
      },
      "execution_count": null,
      "outputs": []
    },
    {
      "cell_type": "code",
      "source": [
        "#LCM of two numbers\n",
        "a=int(input(\"Enter a number\"))\n",
        "b=int(input(\"Enter a number\"))\n",
        "if(a>b):\n",
        "  greater=a\n",
        "else:\n",
        "  greater=b\n",
        "  while(True):\n",
        "    if(greater%a==0 and greater%b==0):\n",
        "      print(\"LCM = \",greater)\n",
        "      break\n",
        "    else:\n",
        "      greater+=1\n"
      ],
      "metadata": {
        "id": "yi2nUf0iI-IX",
        "colab": {
          "base_uri": "https://localhost:8080/"
        },
        "outputId": "58c6391a-fc53-45ab-ff66-51e73fd9ccea"
      },
      "execution_count": null,
      "outputs": [
        {
          "output_type": "stream",
          "name": "stdout",
          "text": [
            "Enter a number5\n",
            "Enter a number13\n",
            "LCM =  65\n"
          ]
        }
      ]
    },
    {
      "cell_type": "code",
      "source": [
        "ST=str(input(\"enter a string\"))\n",
        "start=0\n",
        "end=len(ST)-1\n",
        "a=0\n",
        "while(start<end):\n",
        "  if(ST[start]!=ST[end]):\n",
        "    a=1\n",
        "    break\n",
        "  start+=1\n",
        "  end-=1\n",
        "\n",
        "if(a==1):\n",
        "\n",
        " print(\"Not a Palindrome\")\n",
        "else:\n",
        "  print(\"It is a Palindrome \")\n"
      ],
      "metadata": {
        "colab": {
          "base_uri": "https://localhost:8080/"
        },
        "id": "W1KWSOozxgDZ",
        "outputId": "84780261-0d26-4ff8-e0d9-34148ab1b464"
      },
      "execution_count": null,
      "outputs": [
        {
          "output_type": "stream",
          "name": "stdout",
          "text": [
            "enter a stringsaras\n",
            "It is a Palindrome \n"
          ]
        }
      ]
    },
    {
      "cell_type": "code",
      "source": [
        "mylist=['tiger','sher',16,'B']\n",
        "mylist[0]=\"BHAU\"#update at specified position\n",
        "print(mylist)\n",
        "mylist.append(\"FCUK\")#update a last\n",
        "print(mylist)\n",
        "mylist.pop()#delete from last\n",
        "print(mylist)\n"
      ],
      "metadata": {
        "colab": {
          "base_uri": "https://localhost:8080/"
        },
        "id": "ruUZKWiK29Wq",
        "outputId": "8ffa5a28-70bf-44e9-8a81-8c2a3b2070f7"
      },
      "execution_count": null,
      "outputs": [
        {
          "output_type": "stream",
          "name": "stdout",
          "text": [
            "['BHAU', 'sher', 16, 'B']\n",
            "['BHAU', 'sher', 16, 'B', 'FCUK']\n",
            "['BHAU', 'sher', 16, 'B']\n"
          ]
        }
      ]
    },
    {
      "cell_type": "code",
      "source": [
        "List=[2,9,7,28,1,25,17]\n",
        "max=0\n",
        "\n",
        "for i in List:\n",
        "  if i>max:\n",
        "    max=i\n",
        "print(max)"
      ],
      "metadata": {
        "colab": {
          "base_uri": "https://localhost:8080/"
        },
        "id": "vEHExBwR61ll",
        "outputId": "433dc610-572f-4f10-dd58-2665bd059244"
      },
      "execution_count": null,
      "outputs": [
        {
          "output_type": "stream",
          "name": "stdout",
          "text": [
            "28\n"
          ]
        }
      ]
    },
    {
      "cell_type": "code",
      "source": [
        "List=[2,9,7,28,1,25,17]\n",
        "newlist=[]\n",
        "total=0\n",
        "for i in List:\n",
        "  total+=i\n",
        "  newlist.append(total)\n",
        "  print(total,i,newlist)\n"
      ],
      "metadata": {
        "colab": {
          "base_uri": "https://localhost:8080/"
        },
        "id": "FkVNH6ew8vnh",
        "outputId": "c5ee2b72-debb-454f-cf99-9ee275acd0ae"
      },
      "execution_count": null,
      "outputs": [
        {
          "output_type": "stream",
          "name": "stdout",
          "text": [
            "2 2 [2]\n",
            "11 9 [2, 11]\n",
            "18 7 [2, 11, 18]\n",
            "46 28 [2, 11, 18, 46]\n",
            "47 1 [2, 11, 18, 46, 47]\n",
            "72 25 [2, 11, 18, 46, 47, 72]\n",
            "89 17 [2, 11, 18, 46, 47, 72, 89]\n"
          ]
        }
      ]
    },
    {
      "cell_type": "code",
      "source": [
        "#nested FOr\n",
        "for i in range(1,4):\n",
        "  print(\"------Sudent\",i)\n",
        "  for j in range(1,i+1):\n",
        "    print(\"SUiiii prabhaat\")"
      ],
      "metadata": {
        "colab": {
          "base_uri": "https://localhost:8080/"
        },
        "id": "vc4NNfcNDvr9",
        "outputId": "dd98cc01-560d-4f8b-ed42-8d546b6cf93d"
      },
      "execution_count": null,
      "outputs": [
        {
          "output_type": "stream",
          "name": "stdout",
          "text": [
            "------Sudent 1\n",
            "SUiiii prabhaat\n",
            "------Sudent 2\n",
            "SUiiii prabhaat\n",
            "SUiiii prabhaat\n",
            "------Sudent 3\n",
            "SUiiii prabhaat\n",
            "SUiiii prabhaat\n",
            "SUiiii prabhaat\n"
          ]
        }
      ]
    },
    {
      "cell_type": "code",
      "source": [
        "import webbrowser\n",
        "def open_website(url):\n",
        "    webbrowser.open(url, new=2)  # new=2 opens in a new tab, if possible\n",
        "if __name__ == \"__main__\":\n",
        "    website_url = \"https://www.instagram.com\"  # Change this to your desired website\n",
        "    open_website(\"https://www.instagram.com/\")\n"
      ],
      "metadata": {
        "id": "keXEnkbV-h3h"
      },
      "execution_count": null,
      "outputs": []
    },
    {
      "cell_type": "code",
      "source": [
        "mylist =[50,19,8,7,2,3,6,9,0,25,5,6]\n",
        "for i in range(0,len(mylist)):\n",
        "  for j in range(i+1,len(mylist)):\n",
        "    if(mylist[i]+mylist[j]==9):\n",
        "      print(\"sum of two value=====>\",mylist[i],mylist[j])"
      ],
      "metadata": {
        "colab": {
          "base_uri": "https://localhost:8080/"
        },
        "id": "q72Y6MDQHvjI",
        "outputId": "a40068ce-1076-44f0-d8a0-deca2d4c14c7"
      },
      "execution_count": null,
      "outputs": [
        {
          "output_type": "stream",
          "name": "stdout",
          "text": [
            "sum of two value=====> 7 2\n",
            "sum of two value=====> 3 6\n",
            "sum of two value=====> 3 6\n",
            "sum of two value=====> 9 0\n"
          ]
        }
      ]
    },
    {
      "cell_type": "code",
      "source": [
        "mytupl=(5,8,'abc',98,'S')\n",
        "mytupl.count('S') #count an element\n",
        "mytupl.index(\"abc\")#find the index"
      ],
      "metadata": {
        "id": "HdQsY97oNiPS",
        "colab": {
          "base_uri": "https://localhost:8080/"
        },
        "outputId": "f562ad1b-c340-4ca5-8098-1e06f3cc707c"
      },
      "execution_count": null,
      "outputs": [
        {
          "output_type": "execute_result",
          "data": {
            "text/plain": [
              "2"
            ]
          },
          "metadata": {},
          "execution_count": 8
        }
      ]
    },
    {
      "cell_type": "code",
      "source": [
        "for i in range(1,5):\n",
        "  print(\"student\",i)\n",
        "  for j in range(1,5-i):\n",
        "    print(\"-------Subject\",j,end=\" \")\n",
        "  print(\" \\n $$$$$$$$$$$$  TEA BREAK  $$$$$$$$$$\")"
      ],
      "metadata": {
        "colab": {
          "base_uri": "https://localhost:8080/"
        },
        "id": "XDQAJjGr714T",
        "outputId": "23149d78-20ff-4d88-869c-94a1e03f9235"
      },
      "execution_count": null,
      "outputs": [
        {
          "output_type": "stream",
          "name": "stdout",
          "text": [
            "student 1\n",
            "-------Subject 1 -------Subject 2 -------Subject 3  \n",
            " $$$$$$$$$$$$  TEA BREAK  $$$$$$$$$$\n",
            "student 2\n",
            "-------Subject 1 -------Subject 2  \n",
            " $$$$$$$$$$$$  TEA BREAK  $$$$$$$$$$\n",
            "student 3\n",
            "-------Subject 1  \n",
            " $$$$$$$$$$$$  TEA BREAK  $$$$$$$$$$\n",
            "student 4\n",
            " \n",
            " $$$$$$$$$$$$  TEA BREAK  $$$$$$$$$$\n"
          ]
        }
      ]
    },
    {
      "cell_type": "code",
      "source": [
        "for i in range(0,5):\n",
        "  for j in range(1,5):\n",
        "    print(\"*\",end=\" \")\n",
        "  print(\"\")"
      ],
      "metadata": {
        "colab": {
          "base_uri": "https://localhost:8080/"
        },
        "id": "YSKvtpZ3-RR7",
        "outputId": "689857d5-2f36-4f8d-d5be-8a01cf9b9809"
      },
      "execution_count": null,
      "outputs": [
        {
          "output_type": "stream",
          "name": "stdout",
          "text": [
            "* * * * \n",
            "* * * * \n",
            "* * * * \n",
            "* * * * \n",
            "* * * * \n"
          ]
        }
      ]
    },
    {
      "cell_type": "code",
      "source": [
        "for i in range(1,4):\n",
        "  for j in range(0,5):\n",
        "    print(i,end=\"\")\n",
        "  print(\" \")"
      ],
      "metadata": {
        "colab": {
          "base_uri": "https://localhost:8080/"
        },
        "id": "WyAKLyeAAuwk",
        "outputId": "a865ecc8-58da-4645-c0a9-899c00855f9c"
      },
      "execution_count": null,
      "outputs": [
        {
          "output_type": "stream",
          "name": "stdout",
          "text": [
            "11111 \n",
            "22222 \n",
            "33333 \n"
          ]
        }
      ]
    },
    {
      "cell_type": "code",
      "source": [
        "for i in range(4,9,2):\n",
        "  for j in range(0,5):\n",
        "    print(i,end=\"\")\n",
        "  print(\" \")"
      ],
      "metadata": {
        "colab": {
          "base_uri": "https://localhost:8080/"
        },
        "id": "WMYU6eTzBx8G",
        "outputId": "13aa5987-80ad-46d3-fdc0-94b930ab1932"
      },
      "execution_count": null,
      "outputs": [
        {
          "output_type": "stream",
          "name": "stdout",
          "text": [
            "44444 \n",
            "66666 \n",
            "88888 \n"
          ]
        }
      ]
    },
    {
      "cell_type": "code",
      "source": [
        "for i in range(0,3):\n",
        "  for j in range(1,5):\n",
        "    print(j,end=\"\")\n",
        "  print(\" \")"
      ],
      "metadata": {
        "colab": {
          "base_uri": "https://localhost:8080/"
        },
        "id": "AE2GrkR7Ce3V",
        "outputId": "bdc6002f-7424-4f70-d11f-a03f7ab29e1d"
      },
      "execution_count": null,
      "outputs": [
        {
          "output_type": "stream",
          "name": "stdout",
          "text": [
            "1234 \n",
            "1234 \n",
            "1234 \n"
          ]
        }
      ]
    },
    {
      "cell_type": "code",
      "source": [
        "for i in range(1,5):\n",
        "  for j in range(4,8):\n",
        "    print(j,end=\"\")\n",
        "  print(\" \")"
      ],
      "metadata": {
        "colab": {
          "base_uri": "https://localhost:8080/"
        },
        "id": "0zWdfxxhDRhF",
        "outputId": "af78348e-ca95-48fe-e494-fa8bf9c2bc50"
      },
      "execution_count": null,
      "outputs": [
        {
          "output_type": "stream",
          "name": "stdout",
          "text": [
            "4567 \n",
            "4567 \n",
            "4567 \n",
            "4567 \n"
          ]
        }
      ]
    },
    {
      "cell_type": "code",
      "source": [
        "n = 5\n",
        "for i in range(1, n + 1):\n",
        "    print('*' * i)\n"
      ],
      "metadata": {
        "colab": {
          "base_uri": "https://localhost:8080/"
        },
        "id": "nZY6kwyyESKK",
        "outputId": "6bedfedc-2691-48f7-d088-00ef612de51e"
      },
      "execution_count": null,
      "outputs": [
        {
          "output_type": "stream",
          "name": "stdout",
          "text": [
            "*\n",
            "**\n",
            "***\n",
            "****\n",
            "*****\n"
          ]
        }
      ]
    },
    {
      "cell_type": "code",
      "source": [
        "n = 3\n",
        "for i in range(1, n + 1):\n",
        "    for j in range(1, i + 1):\n",
        "        print(j, end=' ')\n",
        "    print()"
      ],
      "metadata": {
        "colab": {
          "base_uri": "https://localhost:8080/"
        },
        "id": "HSoQKOAjE2x6",
        "outputId": "c18a8122-7f54-4e90-b605-eed1d79eb097"
      },
      "execution_count": null,
      "outputs": [
        {
          "output_type": "stream",
          "name": "stdout",
          "text": [
            "1 \n",
            "1 2 \n",
            "1 2 3 \n"
          ]
        }
      ]
    },
    {
      "cell_type": "code",
      "source": [
        "for i in range(1,4):\n",
        "  for j in range(4,0,-1):\n",
        "    print(\"-\",end=\"\")\n",
        "  print(\"\")"
      ],
      "metadata": {
        "colab": {
          "base_uri": "https://localhost:8080/"
        },
        "id": "mVE2gYB1GGR0",
        "outputId": "28951b32-72b1-49a3-9437-5560d4018414"
      },
      "execution_count": null,
      "outputs": [
        {
          "output_type": "stream",
          "name": "stdout",
          "text": [
            "----\n",
            "----\n",
            "----\n"
          ]
        }
      ]
    },
    {
      "cell_type": "code",
      "source": [
        "for i in range(1,6):\n",
        "  for j in range(0,5-i):\n",
        "    print(\"-\",end=\"\")\n",
        "  for j in range(1,i+1):\n",
        "    print(\"*\",end=\"\")\n",
        "  print(\" \")"
      ],
      "metadata": {
        "colab": {
          "base_uri": "https://localhost:8080/"
        },
        "id": "dJSxJ5K3IDhO",
        "outputId": "09c83673-3487-4549-b161-ed1ad24030a9"
      },
      "execution_count": null,
      "outputs": [
        {
          "output_type": "stream",
          "name": "stdout",
          "text": [
            "----* \n",
            "---** \n",
            "--*** \n",
            "-**** \n",
            "***** \n"
          ]
        }
      ]
    },
    {
      "cell_type": "code",
      "source": [
        "\n",
        "for i in range(0,5):\n",
        "    for j in range(0,i + 1):\n",
        "        print((i + j) % 2, end='')\n",
        "    print()"
      ],
      "metadata": {
        "colab": {
          "base_uri": "https://localhost:8080/"
        },
        "id": "OC1ildmRJOrH",
        "outputId": "2d304ae3-79d1-46d0-9ed6-af91bd6ed5b3"
      },
      "execution_count": null,
      "outputs": [
        {
          "output_type": "stream",
          "name": "stdout",
          "text": [
            "0\n",
            "10\n",
            "010\n",
            "1010\n",
            "01010\n"
          ]
        }
      ]
    },
    {
      "cell_type": "code",
      "source": [
        "data=\"hello\"\n",
        "count=0\n",
        "for char in data:\n",
        "  count+=1\n",
        "  mydictionary=(\"Total\",count)\n",
        "print(mydictionary)"
      ],
      "metadata": {
        "id": "wbEFu6bOL4aK",
        "colab": {
          "base_uri": "https://localhost:8080/"
        },
        "outputId": "1ec79f9a-cbc4-450b-9819-63904f422684"
      },
      "execution_count": null,
      "outputs": [
        {
          "output_type": "stream",
          "name": "stdout",
          "text": [
            "('Total', 5)\n"
          ]
        }
      ]
    },
    {
      "cell_type": "code",
      "source": [
        "Data='user'\n",
        "mydictionary={}\n",
        "for chr in Data:\n",
        "  mydictionary[chr]=1\n",
        "print(mydictionary)"
      ],
      "metadata": {
        "colab": {
          "base_uri": "https://localhost:8080/"
        },
        "id": "igMsUHdUFP11",
        "outputId": "638cd4ad-23d1-42f9-b39b-ea9ac70c32f3"
      },
      "execution_count": null,
      "outputs": [
        {
          "output_type": "stream",
          "name": "stdout",
          "text": [
            "{'u': 1, 's': 1, 'e': 1, 'r': 1}\n"
          ]
        }
      ]
    },
    {
      "cell_type": "code",
      "source": [
        "data=\"hey isha\"\n",
        "mydictionary={}\n",
        "for a in data:\n",
        "  if(a=='a' or a=='e'or a=='i' or a=='o'or a=='u' ):\n",
        "    mydictionary[a]=1\n",
        "\n",
        "print(mydictionary)"
      ],
      "metadata": {
        "colab": {
          "base_uri": "https://localhost:8080/"
        },
        "id": "KePo-epcF0wm",
        "outputId": "cb631714-c769-4292-c988-a4465bfbe6d6"
      },
      "execution_count": null,
      "outputs": [
        {
          "output_type": "stream",
          "name": "stdout",
          "text": [
            "{'e': 1, 'i': 1, 'a': 1}\n"
          ]
        }
      ]
    },
    {
      "cell_type": "code",
      "source": [
        "data=\"hey isahaeeea\"\n",
        "mydictionary={}\n",
        "for i in'aeiou':\n",
        "  if i not in mydictionary:\n",
        "    mydictionary[i]=1\n",
        "  else:\n",
        "    mydictionary[char]=mydictionary[i]+1\n",
        "\n",
        "print(mydictionary)"
      ],
      "metadata": {
        "colab": {
          "base_uri": "https://localhost:8080/"
        },
        "id": "x3iZtpl5Hhjn",
        "outputId": "e83b9362-67eb-44f0-8752-c7b1c08ac31a"
      },
      "execution_count": null,
      "outputs": [
        {
          "output_type": "stream",
          "name": "stdout",
          "text": [
            "{'a': 1, 'e': 1, 'i': 1, 'o': 1, 'u': 1}\n"
          ]
        }
      ]
    },
    {
      "cell_type": "code",
      "source": [
        "mydictionary={\"amount\":15}\n",
        "mydictionary[\"amount\"]=mydictionary[\"amount\"]+200\n",
        "print(mydictionary)"
      ],
      "metadata": {
        "colab": {
          "base_uri": "https://localhost:8080/"
        },
        "id": "QtHtjQY_IcHy",
        "outputId": "44e83606-8e19-494b-887c-fc81831a6e75"
      },
      "execution_count": null,
      "outputs": [
        {
          "output_type": "stream",
          "name": "stdout",
          "text": [
            "{'amount': 215}\n"
          ]
        }
      ]
    },
    {
      "cell_type": "code",
      "source": [
        "#list Comphrehension {summerized way to create dictionary and also applicaple on other data types}\n",
        "newlist=[]\n",
        "for i in [10,20,30,40,50]:\n",
        "  newlist.append(i+5)\n",
        "print(newlist)\n",
        "\n"
      ],
      "metadata": {
        "colab": {
          "base_uri": "https://localhost:8080/"
        },
        "id": "zmiPevkPJIF4",
        "outputId": "90b81990-fed5-4d14-b157-a968ec706a6a"
      },
      "execution_count": null,
      "outputs": [
        {
          "output_type": "stream",
          "name": "stdout",
          "text": [
            "[15, 25, 35, 45, 55]\n"
          ]
        }
      ]
    },
    {
      "cell_type": "code",
      "source": [
        "#list Comphrehension {summerized way to create dictionary and also applicaple on other data types}\n",
        " {char: 1 for char in \"hey\"}\n"
      ],
      "metadata": {
        "colab": {
          "base_uri": "https://localhost:8080/"
        },
        "id": "wPaZ5QKVL0hu",
        "outputId": "0df1a1e7-d8e9-47b9-c601-c9e1aabb3ae1"
      },
      "execution_count": null,
      "outputs": [
        {
          "output_type": "execute_result",
          "data": {
            "text/plain": [
              "{'h': 1, 'e': 1, 'y': 1}"
            ]
          },
          "metadata": {},
          "execution_count": 35
        }
      ]
    },
    {
      "cell_type": "code",
      "source": [
        "'''Functions:- Set of instructons to perform a particular task\n",
        "used to increase code reusablility '''\n",
        "def test():\n",
        "  print(\"Hello\")\n",
        "\n",
        "test()\n",
        "\n",
        "test()\n",
        "\n",
        "test()\n",
        "test()\n",
        "test()\n",
        "test()\n",
        "test()\n"
      ],
      "metadata": {
        "colab": {
          "base_uri": "https://localhost:8080/"
        },
        "id": "zmzH6zihMoXn",
        "outputId": "6d7a38f4-bbd4-4005-cbe9-a677ef001e71"
      },
      "execution_count": null,
      "outputs": [
        {
          "output_type": "stream",
          "name": "stdout",
          "text": [
            "Hello\n",
            "Hello\n",
            "Hello\n",
            "Hello\n",
            "Hello\n",
            "Hello\n",
            "Hello\n"
          ]
        }
      ]
    },
    {
      "cell_type": "code",
      "source": [
        "a=5  #global var\n",
        "def var():\n",
        "  z=10#local var\n",
        "  print(a)\n",
        "  print(z)\n",
        "var()\n",
        "print(a)"
      ],
      "metadata": {
        "colab": {
          "base_uri": "https://localhost:8080/"
        },
        "id": "y7Wdjb_nN6hN",
        "outputId": "22741247-69b3-444c-edc8-cd62395c0fdb"
      },
      "execution_count": null,
      "outputs": [
        {
          "output_type": "stream",
          "name": "stdout",
          "text": [
            "5\n",
            "10\n",
            "5\n"
          ]
        }
      ]
    },
    {
      "cell_type": "code",
      "source": [
        "def msg(username):\n",
        "  print(\"Hey User: \",username)\n",
        "msg(\"Shelu\")\n",
        "msg(\"Kartik\")"
      ],
      "metadata": {
        "colab": {
          "base_uri": "https://localhost:8080/"
        },
        "id": "fXX25kY0PHbu",
        "outputId": "ba428152-72e5-4af9-b41e-11dea417e7f7"
      },
      "execution_count": null,
      "outputs": [
        {
          "output_type": "stream",
          "name": "stdout",
          "text": [
            "Hey User:  Shelu\n",
            "Hey User:  Kartik\n"
          ]
        }
      ]
    },
    {
      "cell_type": "code",
      "source": [
        "def sum(num):\n",
        "  total=0\n",
        "  for i in range(1,num+1):\n",
        "    total=total+i\n",
        "  print(\"Sum upto {num} is\",total)\n",
        "sum(15)"
      ],
      "metadata": {
        "colab": {
          "base_uri": "https://localhost:8080/"
        },
        "id": "PKIpH3seQTf5",
        "outputId": "25af7454-ea28-4c10-fedc-aab26dea79dd"
      },
      "execution_count": null,
      "outputs": [
        {
          "output_type": "stream",
          "name": "stdout",
          "text": [
            "Sum upto {num} is 120\n"
          ]
        }
      ]
    },
    {
      "cell_type": "code",
      "source": [
        "for i in range(0,num)\n",
        "    print(\"-\",end=\"\")\n",
        "    num+=1\n",
        "    for j in range(1,i):\n",
        "      print(\"\")\n"
      ],
      "metadata": {
        "colab": {
          "base_uri": "https://localhost:8080/",
          "height": 110
        },
        "id": "VXI-ZRVqROww",
        "outputId": "c9f662af-cdae-48c5-bf0b-a9a35f3a7c7d"
      },
      "execution_count": null,
      "outputs": [
        {
          "output_type": "error",
          "ename": "SyntaxError",
          "evalue": "expected ':' (<ipython-input-49-567510a80239>, line 2)",
          "traceback": [
            "\u001b[0;36m  File \u001b[0;32m\"<ipython-input-49-567510a80239>\"\u001b[0;36m, line \u001b[0;32m2\u001b[0m\n\u001b[0;31m    for i in num\u001b[0m\n\u001b[0m                ^\u001b[0m\n\u001b[0;31mSyntaxError\u001b[0m\u001b[0;31m:\u001b[0m expected ':'\n"
          ]
        }
      ]
    },
    {
      "cell_type": "code",
      "source": [
        "def LCM():\n",
        "    a = int(input(\"Enter the first number: \"))\n",
        "    b = int(input(\"Enter the second number: \"))\n",
        "\n",
        "    if a > b:\n",
        "        greater = a\n",
        "    else:\n",
        "        greater = b\n",
        "\n",
        "    while True:\n",
        "        if greater % a == 0 and greater % b == 0:\n",
        "            print(\"LCM =\", greater)\n",
        "            break\n",
        "        greater += 1\n",
        "\n",
        "LCM()\n",
        "\n"
      ],
      "metadata": {
        "colab": {
          "base_uri": "https://localhost:8080/"
        },
        "id": "nnPZnsywSQlq",
        "outputId": "c4251b70-2ff6-4985-f658-24e104911dec"
      },
      "execution_count": null,
      "outputs": [
        {
          "output_type": "stream",
          "name": "stdout",
          "text": [
            "Enter the first number: 5\n",
            "Enter the second number: 3\n",
            "LCM = 15\n"
          ]
        }
      ]
    },
    {
      "cell_type": "code",
      "source": [
        "def func(a,b):\n",
        "  print(\"a===>\",a,\"b====>\",b)\n",
        "func(2,3)\n",
        "func(3,2)"
      ],
      "metadata": {
        "colab": {
          "base_uri": "https://localhost:8080/"
        },
        "id": "RT5OC4j7WUnb",
        "outputId": "75929746-cdec-40bb-a392-6b961b2c23ea"
      },
      "execution_count": null,
      "outputs": [
        {
          "output_type": "stream",
          "name": "stdout",
          "text": [
            "a===> 2 b====> 3\n",
            "a===> 3 b====> 2\n"
          ]
        }
      ]
    },
    {
      "cell_type": "code",
      "source": [],
      "metadata": {
        "id": "nrOXHPqAeS-F"
      },
      "execution_count": null,
      "outputs": []
    }
  ]
}